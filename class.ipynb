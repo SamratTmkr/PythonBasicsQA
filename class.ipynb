{
 "cells": [
  {
   "cell_type": "markdown",
   "metadata": {},
   "source": [
    "## 1. Rectangle Class:Define a class Rectangle with: ○ Two attributes: length and width. ○ A method perimeter() to calculate the perimeter.\n"
   ]
  },
  {
   "cell_type": "code",
   "execution_count": null,
   "metadata": {},
   "outputs": [],
   "source": [
    "class Rectangle:\n",
    "    def __init__(self, length, width):\n",
    "        self.length = length\n",
    "        self.width = width\n",
    "\n",
    "    def area(self):\n",
    "        return self.length * self.width\n",
    "\n",
    "    def perimeter(self):\n",
    "        return 2 * (self.length + self.width)\n",
    "\n",
    "rect = Rectangle(8, 2)\n",
    "\n",
    "print(f\"Area of the rectangle: {rect.area()}\")       \n",
    "print(f\"Perimeter of the rectangle: {rect.perimeter()}\") \n"
   ]
  },
  {
   "cell_type": "markdown",
   "metadata": {},
   "source": [
    "## 2. Student Class: Create a class Student with:○ Attributes: name, roll_number, and marks.○ A method display_details() to print the student's details.○ A method is_passed()"
   ]
  },
  {
   "cell_type": "code",
   "execution_count": null,
   "metadata": {},
   "outputs": [],
   "source": [
    "class Student:\n",
    "    def __init__(self, name, roll_number, marks):\n",
    "        self.name = name\n",
    "        self.roll_number = roll_number\n",
    "        self.marks = marks\n",
    "\n",
    "    def display_details(self):\n",
    "        print(f\"Name: {self.name}, Roll Number: {self.roll_number}, Marks: {self.marks}\")\n",
    "\n",
    "    def is_passed(self):\n",
    "        return self.marks >= 40\n",
    "\n",
    "student = Student(\"John Doe\", 191, 71)\n",
    "student.display_details()             \n",
    "print(\"Passed:\", student.is_passed()) \n"
   ]
  },
  {
   "cell_type": "markdown",
   "metadata": {},
   "source": [
    "## 3. Define a class Circle with: ● Attribute: radius. ● Methods: area() to calculate the area, circumference() to calculate the circumference."
   ]
  },
  {
   "cell_type": "code",
   "execution_count": null,
   "metadata": {},
   "outputs": [],
   "source": [
    "import math\n",
    "\n",
    "class Circle:\n",
    "    def __init__(self, radius):\n",
    "        self.radius = radius\n",
    "\n",
    "    def area(self):\n",
    "        return math.pi * self.radius ** 2\n",
    "\n",
    "    def circumference(self):\n",
    "        return 2 * math.pi * self.radius\n",
    "\n",
    "circle = Circle(7)\n",
    "print(\"Area:\", circle.area())                 # Output: Area: 153.93804002589985\n",
    "print(\"Circumference:\", circle.circumference())  # Output: Circumference: 43.982297150257104\n"
   ]
  },
  {
   "cell_type": "markdown",
   "metadata": {},
   "source": [
    "## 4. Create a class BankAccount with:● Attributes: account_number, account_holder, balance.\n",
    "## ● Methods: ○ deposit(amount) to add money to the account."
   ]
  },
  {
   "cell_type": "code",
   "execution_count": null,
   "metadata": {},
   "outputs": [],
   "source": [
    "class BankAccount:\n",
    "    def __init__(self, account_number, account_holder, balance=0):\n",
    "        self.account_number = account_number\n",
    "        self.account_holder = account_holder\n",
    "        self.balance = balance\n",
    "\n",
    "    def deposit(self, amount):\n",
    "        self.balance += amount\n",
    "\n",
    "    def withdraw(self, amount):\n",
    "        if amount <= self.balance:\n",
    "            self.balance -= amount\n",
    "        else:\n",
    "            print(\"Insufficient balance!\")\n",
    "\n",
    "    def display_balance(self):\n",
    "        print(f\"Current balance: {self.balance}\")\n",
    "\n",
    "account = BankAccount(\"12345\", \"John Doe\", 1000)\n",
    "account.deposit(500)\n",
    "account.withdraw(300)\n",
    "account.display_balance()  \n"
   ]
  },
  {
   "cell_type": "markdown",
   "metadata": {},
   "source": [
    "## 5. A class Book with:\n",
    "## ● Attributes: title, author, price.\n",
    "## ● Methods: ○ apply_discount(discount) to reduce the price by a given percentage.  ○ display_details() to print the book details."
   ]
  },
  {
   "cell_type": "code",
   "execution_count": null,
   "metadata": {},
   "outputs": [],
   "source": [
    "class Book:\n",
    "    def __init__(self, title, author, price):\n",
    "        self.title = title\n",
    "        self.author = author\n",
    "        self.price = price\n",
    "\n",
    "    def apply_discount(self, discount):\n",
    "        self.price -= self.price * (discount / 100)\n",
    "\n",
    "    def display_details(self):\n",
    "        print(f\"Title: {self.title}, Author: {self.author}, Price: {self.price}\")\n",
    "\n",
    "book = Book(\"Python Programming\", \"John Doe\", 500)\n",
    "book.apply_discount(10)\n",
    "book.display_details() \n"
   ]
  },
  {
   "cell_type": "markdown",
   "metadata": {},
   "source": [
    "## Create a class Calculator with:\n",
    "## ○ A method add(a, b) to add two numbers.\n",
    "## ○ A method subtract(a, b) to subtract two numbers.\n",
    "## ○ A method multiply(a, b) to multiply two numbers.\n",
    "## ○ A method divide(a, b) to divide two numbers (handle division by zero gracefully)."
   ]
  },
  {
   "cell_type": "code",
   "execution_count": null,
   "metadata": {},
   "outputs": [],
   "source": [
    "class Calculator:\n",
    "    def add(self, a, b):\n",
    "        return a + b\n",
    "\n",
    "    def subtract(self, a, b):\n",
    "        return a - b\n",
    "\n",
    "    def multiply(self, a, b):\n",
    "        return a * b\n",
    "\n",
    "    def divide(self, a, b):\n",
    "        return a / b if b != 0 else \"Cannot divide by zero!\"\n",
    "\n",
    "calc = Calculator()\n",
    "print(\"Addition:\", calc.add(10, 5))      \n",
    "print(\"Subtraction:\", calc.subtract(10, 5))  \n",
    "print(\"Multiplication:\", calc.multiply(10, 5)) \n",
    "print(\"Division:\", calc.divide(10, 0))  \n"
   ]
  },
  {
   "cell_type": "markdown",
   "metadata": {},
   "source": [
    "## 7. Write a class Person with:\n",
    "\n",
    "## ○ Attributes: name, age, gender.\n",
    "## ○ Method introduce() to print a message like: \"Hello, my name\n",
    "## is [name], I am [age] years old, and I am a [gender].\"\n",
    "## ○ Create a subclass Employee that adds:\n",
    "## ■ Attribute: job_title.\n",
    "## ■ Override introduce() to include the job title."
   ]
  },
  {
   "cell_type": "code",
   "execution_count": null,
   "metadata": {},
   "outputs": [],
   "source": [
    "class Person:\n",
    "    def __init__(self, name, age, gender):\n",
    "        self.name = name\n",
    "        self.age = age\n",
    "        self.gender = gender\n",
    "\n",
    "    def introduce(self):\n",
    "        print(f\"Hello, my name is {self.name}, I am {self.age} years old, and I am a {self.gender}.\")\n",
    "\n",
    "class Employee(Person):\n",
    "    def __init__(self, name, age, gender, job_title):\n",
    "        super().__init__(name, age, gender)\n",
    "        self.job_title = job_title\n",
    "\n",
    "    def introduce(self):\n",
    "        print(f\"Hello, my name is {self.name}, I am {self.age} years old, I am a {self.gender}, and I work as a {self.job_title}.\")\n",
    "\n",
    "employee = Employee(\"Alice\", 30, \"Female\", \"Software Developer\")\n",
    "employee.introduce()  "
   ]
  }
 ],
 "metadata": {
  "language_info": {
   "name": "python"
  }
 },
 "nbformat": 4,
 "nbformat_minor": 2
}
