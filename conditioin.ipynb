{
 "cells": [
  {
   "cell_type": "markdown",
   "metadata": {},
   "source": [
    "## Write a program that asks the user to enter a number and checks whether the number is even or odd."
   ]
  },
  {
   "cell_type": "code",
   "execution_count": null,
   "metadata": {},
   "outputs": [],
   "source": [
    "number = int(input(\"Enter a number: \"))\n",
    "if number%2==0:\n",
    "    print(f'{number} is an even number')\n",
    "elif  number%2!=0:\n",
    "    print(f'{number} is an odd number')\n",
    "else:\n",
    "    print(f'{number} is invalid input')"
   ]
  },
  {
   "cell_type": "markdown",
   "metadata": {},
   "source": [
    "## Write a program that asks the user to enter a number and checks whether it is positive, negative, or zero."
   ]
  },
  {
   "cell_type": "code",
   "execution_count": null,
   "metadata": {},
   "outputs": [],
   "source": [
    "number = int(input(\"Enter a number: \"))\n",
    "if number>0:\n",
    "    print(f'{number} is positive number')\n",
    "elif  number<0:\n",
    "    print(f'{number} is an negative number')\n",
    "elif  number==0:\n",
    "    print(f'{number} is neither positive nor negative')\n",
    "else:\n",
    "    print(f'{number} is invalid input')\n"
   ]
  },
  {
   "cell_type": "markdown",
   "metadata": {},
   "source": [
    "## Write a program that asks the user to enter their age and checks if they are eligible to vote (18 years or older)."
   ]
  },
  {
   "cell_type": "code",
   "execution_count": null,
   "metadata": {},
   "outputs": [],
   "source": [
    "number = int(input(\"Enter your age: \"))\n",
    "if number>18:\n",
    "    print(f'You are eligible to vote')\n",
    "elif  number<18:\n",
    "    print(f'You are not eligible to vote')\n",
    "elif  number==0:\n",
    "    print(f'0 is invalid')\n",
    "else:\n",
    "    print(f'{number} is invalid input')"
   ]
  },
  {
   "cell_type": "markdown",
   "metadata": {},
   "source": [
    "## Write a program that takes the lengths of three sides of a\n",
    "## triangle as input and determines if the triangle is:\n",
    "## ○ Equilateral (all sides are equal)\n",
    "## ○ Isosceles (two sides are equal)\n",
    "## ○ Scalene (all sides are different)"
   ]
  },
  {
   "cell_type": "code",
   "execution_count": null,
   "metadata": {},
   "outputs": [],
   "source": [
    "side1 = float(input(\"Enter length of a side: \"))\n",
    "side2 = float(input(\"Enter length of a side: \"))\n",
    "side3 = float(input(\"Enter length of a side: \"))\n",
    "\n",
    "if side1 == side2 == side3:\n",
    "    print(\"The triangle is Equilateral.\")\n",
    "elif side1 == side2 or side2 == side3 or side1 == side3:\n",
    "    print(\"The triangle is Isosceles.\")\n",
    "else:\n",
    "    print(\"The triangle is Scalene.\")"
   ]
  },
  {
   "cell_type": "markdown",
   "metadata": {},
   "source": [
    "## Write a program that asks the user to enter a password and checks if it matches a predefined password (e.g., \"Python123\")."
   ]
  },
  {
   "cell_type": "code",
   "execution_count": null,
   "metadata": {},
   "outputs": [],
   "source": [
    "passwd = 'Python123'\n",
    "var = str(input('Enter a password'))\n",
    "if var==passwd:\n",
    "    print('The password matches')\n",
    "else:\n",
    "    print(\"The password doesn't match\")\n"
   ]
  }
 ],
 "metadata": {
  "language_info": {
   "name": "python"
  }
 },
 "nbformat": 4,
 "nbformat_minor": 2
}
