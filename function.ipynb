{
 "cells": [
  {
   "cell_type": "markdown",
   "metadata": {},
   "source": [
    "Factorial Function: Write a function factorial(n) that returns\n",
    "the factorial of a number using a for loop."
   ]
  },
  {
   "cell_type": "code",
   "execution_count": null,
   "metadata": {},
   "outputs": [],
   "source": [
    "n = int(input('enter a number'))\n",
    "def factorial(n):\n",
    "    result = 1\n",
    "    for i in range(1, n + 1):\n",
    "        result *= i\n",
    "    return result\n",
    "\n",
    "print(factorial(n))"
   ]
  },
  {
   "cell_type": "markdown",
   "metadata": {},
   "source": [
    "Prime Check Function: Create a function is_prime(n) to check\n",
    "whether a number is prime."
   ]
  },
  {
   "cell_type": "code",
   "execution_count": null,
   "metadata": {},
   "outputs": [],
   "source": [
    "num = int(input('enter a number'))\n",
    "def is_prime(num):\n",
    "    if num <= 1:\n",
    "        return False\n",
    "    for i in range(2, num):\n",
    "        if num % i == 0:\n",
    "            return False\n",
    "    return True\n",
    "\n",
    "print(is_prime(num))"
   ]
  },
  {
   "cell_type": "markdown",
   "metadata": {},
   "source": [
    "## 3. Find Maximum in List:Write a function find_max(lst) to find and\n",
    "## return the maximum value in a list."
   ]
  },
  {
   "cell_type": "code",
   "execution_count": null,
   "metadata": {},
   "outputs": [],
   "source": [
    "input_list = [1, 3, 7, 0]\n",
    "\n",
    "def find_max(lst):\n",
    "    return max(lst)\n",
    "\n",
    "result = find_max(input_list)\n",
    "print(f\"The maximum value in the list is: {result}\")\n"
   ]
  },
  {
   "cell_type": "markdown",
   "metadata": {},
   "source": [
    "4. Write a function palindrome_check(string) that returns True if\n",
    "the given string is a palindrome, otherwise False."
   ]
  },
  {
   "cell_type": "code",
   "execution_count": null,
   "metadata": {},
   "outputs": [],
   "source": [
    "input_string = input(\"Enter a string: \")\n",
    "\n",
    "def palindrome_check(string):\n",
    "    return string == string[::-1]\n",
    "\n",
    "result = palindrome_check(input_string)\n",
    "print(f\"Is '{input_string}' a palindrome? {result}\")\n"
   ]
  },
  {
   "cell_type": "markdown",
   "metadata": {},
   "source": [
    "5. Write a function sum_of_squares(n) that returns the sum of\n",
    "squares of the first n natural numbers."
   ]
  },
  {
   "cell_type": "code",
   "execution_count": null,
   "metadata": {},
   "outputs": [],
   "source": [
    "n = int(input(\"Enter a number: \"))\n",
    "\n",
    "def sum_of_squares(n):\n",
    "    return sum(i**2 for i in range(1, n+1))\n",
    "\n",
    "result = sum_of_squares(n)\n",
    "print(f\"Sum of squares of the first {n} natural numbers: {result}\")\n"
   ]
  }
 ],
 "metadata": {
  "language_info": {
   "name": "python"
  }
 },
 "nbformat": 4,
 "nbformat_minor": 2
}
