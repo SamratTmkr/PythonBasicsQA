{
 "cells": [
  {
   "cell_type": "markdown",
   "metadata": {},
   "source": [
    "## 6. Multiplication Table: Write a Python program to print the multiplication table of a given number using a for loop."
   ]
  },
  {
   "cell_type": "markdown",
   "metadata": {},
   "source": []
  },
  {
   "cell_type": "code",
   "execution_count": null,
   "metadata": {},
   "outputs": [],
   "source": [
    "num = int(input('enter a number'))\n",
    "print(f'The multiplication number of {num} is given below')\n",
    "for i in range(1,11):\n",
    "    print(f'{num}*{i}={num*i}')\n",
    "\n",
    "    #for out as question mentioned \n",
    "\n",
    "    num = int(input('Enter a number: '))\n",
    "for i in range(1, 11):\n",
    "    if i != 10:\n",
    "        print(num * i, end=',')\n",
    "    else:\n",
    "        print(num * i)"
   ]
  },
  {
   "cell_type": "markdown",
   "metadata": {},
   "source": [
    "## Count Vowels: Write a program to count and display the number of vowels in a given string."
   ]
  },
  {
   "cell_type": "code",
   "execution_count": null,
   "metadata": {},
   "outputs": [],
   "source": [
    "num = str(input('enter a string'))\n",
    "f=0\n",
    "for char in num:\n",
    "    if char.lower() in 'aeiou':\n",
    "        f+=1\n",
    "print(f'{f} is number of vowels in string')"
   ]
  },
  {
   "cell_type": "markdown",
   "metadata": {},
   "source": [
    "## 8. Sum of Even Numbers Create a program to find the sum of all even numbers in a list using a for loop."
   ]
  },
  {
   "cell_type": "code",
   "execution_count": null,
   "metadata": {},
   "outputs": [],
   "source": [
    "nums = [1, 2, 3, 4, 5, 6, 7, 8, 9, 10]\n",
    "\n",
    "# Initialize sum of even numbers\n",
    "sum = 0\n",
    "\n",
    "# Loop through the list and check for even numbers\n",
    "for num in nums:\n",
    "    if num % 2 == 0:  # Check if the number is even\n",
    "        sum += num\n",
    "\n",
    "# Output the sum of even numbers\n",
    "print(f\"The sum of even numbers in the list is: {sum}\")"
   ]
  }
 ],
 "metadata": {
  "kernelspec": {
   "display_name": "Python 3",
   "language": "python",
   "name": "python3"
  },
  "language_info": {
   "codemirror_mode": {
    "name": "ipython",
    "version": 3
   },
   "file_extension": ".py",
   "mimetype": "text/x-python",
   "name": "python",
   "nbconvert_exporter": "python",
   "pygments_lexer": "ipython3",
   "version": "3.13.0"
  }
 },
 "nbformat": 4,
 "nbformat_minor": 2
}
